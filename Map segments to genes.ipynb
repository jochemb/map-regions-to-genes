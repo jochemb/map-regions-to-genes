{
 "cells": [
  {
   "cell_type": "markdown",
   "metadata": {},
   "source": [
    "# Using R biomart client to download all known genes (for grch37)"
   ]
  },
  {
   "cell_type": "code",
   "execution_count": null,
   "metadata": {
    "collapsed": false
   },
   "outputs": [],
   "source": [
    "%load_ext rpy2.ipython"
   ]
  },
  {
   "cell_type": "markdown",
   "metadata": {},
   "source": [
    "Things the user needs to set:"
   ]
  },
  {
   "cell_type": "code",
   "execution_count": null,
   "metadata": {
    "collapsed": true
   },
   "outputs": [],
   "source": [
    "# The script will create a new platform annotation file with this name.\n",
    "NEW_PLATFORM_NAME = 'qDNAseq_hg19'\n",
    "# What reference assembly is the data on: (hg18, hg19, hg38)\n",
    "REFERENCE_BUILD = 'hg19'\n",
    "# Select the platform file you want to map from.\n",
    "TM_PLATFORM_INPUT_FILE = './' \n",
    "# File with the data that needs to be remapped.\n",
    "TM_SAMPLES_FILE = './180k-Cell-line_samples.txt'\n",
    "# An indicator for the Call columns\n",
    "CALL_INDICATOR = '.flag'\n",
    "# If True, then the mode will be used for genes with many overlapping segments\n",
    "MODE_FLAG = True"
   ]
  },
  {
   "cell_type": "markdown",
   "metadata": {},
   "source": [
    "Set the name for the to-be-created platform and send the variables to R."
   ]
  },
  {
   "cell_type": "code",
   "execution_count": null,
   "metadata": {
    "collapsed": false
   },
   "outputs": [],
   "source": [
    "PLATFORM_DEFINITION_FILE = NEW_PLATFORM_NAME + '.txt'\n",
    "%R -i NEW_PLATFORM_NAME\n",
    "%R -i PLATFORM_DEFINITION_FILE"
   ]
  },
  {
   "cell_type": "markdown",
   "metadata": {},
   "source": [
    "This changes the host for biomart (the script currently works for hg18 and hg19). "
   ]
  },
  {
   "cell_type": "code",
   "execution_count": null,
   "metadata": {
    "collapsed": false
   },
   "outputs": [],
   "source": [
    "host_mapping = {'hg18' : 'may2009.archive.ensembl.org',\n",
    "                'hg19' : 'grch37.ensembl.org',\n",
    "                'hg38' : 'www.ensembl.org'}\n",
    "\n",
    "mart_host = host_mapping[REFERENCE_BUILD]\n",
    "%R -i mart_host"
   ]
  },
  {
   "cell_type": "markdown",
   "metadata": {},
   "source": [
    "This checks if biomart is installed and tries to install it. This likely has to be run from inside R terminal though."
   ]
  },
  {
   "cell_type": "code",
   "execution_count": null,
   "metadata": {
    "collapsed": false
   },
   "outputs": [],
   "source": [
    "%%R\n",
    "if (!is.element('biomaRt', installed.packages()[,1])) {\n",
    "    print('biomaRt not found. Trying to download.')\n",
    "    source(\"https://bioconductor.org/biocLite.R\")\n",
    "    biocLite(\"biomaRt\")\n",
    "}"
   ]
  },
  {
   "cell_type": "code",
   "execution_count": null,
   "metadata": {
    "collapsed": false
   },
   "outputs": [],
   "source": [
    "%%R\n",
    "\n",
    "# ### Using ensembl on GRCh37 -----------------------------------------------\n",
    "library(biomaRt)\n",
    "mart <- useMart(biomart = \"ENSEMBL_MART_ENSEMBL\",\n",
    "                dataset = \"hsapiens_gene_ensembl\",\n",
    "                host=mart_host)\n",
    "\n",
    "\n",
    "# Only use standard human chromosomes\n",
    "normal.chroms <- c(1:22, \"X\", \"Y\", \"M\")\n",
    "\n",
    "# # Get the coordinates through biomart and merge with platform -------------\n",
    "entrez_list <- getBM(attributes = c(\"chromosome_name\", \"start_position\", \"end_position\", \n",
    "                                    \"band\", 'hgnc_symbol','entrezgene'),\n",
    "                        filter = 'chromosome_name',\n",
    "                        values = normal.chroms,\n",
    "                        mart = mart)\n",
    "\n",
    "# Only keep entries with both HGNC symbol and Entrez gene ID\n",
    "entrez_list <- entrez_list[which(!is.na(entrez_list$entrezgene) & entrez_list$hgnc_symbol != ''),]\n",
    "\n",
    "# Deduplicate list from hgnc symbols\n",
    "entrez_list <- entrez_list[order(entrez_list$entrezgene),]\n",
    "entrez_list <- entrez_list[!duplicated(entrez_list$hgnc_symbol),]\n",
    "\n",
    "# Sorting based on chromomome and start position\n",
    "entrez_list <- entrez_list[order(entrez_list$chromosome_name, entrez_list$start_position),]\n",
    "\n",
    "### Create platform file\n",
    "biomart_entrez_platform <- data.frame(  \"GPL_ID\" = NEW_PLATFORM_NAME,\n",
    "                                        \"REGION_NAME\" = entrez_list$hgnc_symbol,\n",
    "                                        \"CHR\" = entrez_list$chromosome_name,\n",
    "                                        \"START_BP\" = as.integer(entrez_list$start_position),\n",
    "                                        \"END_BP\" = as.integer(entrez_list$end_position),\n",
    "                                        \"NUM_PROBES\" = '',\n",
    "                                        \"CYTOBAND\" = entrez_list$band,\n",
    "                                        \"GENE_SYMBOL\" = entrez_list$hgnc_symbol,\n",
    "                                        \"GENE_ID\" = entrez_list$entrezgene,\n",
    "                                        \"ORGANISM\" = 'Homo sapiens'\n",
    "                                )\n",
    "\n",
    "write.table(biomart_entrez_platform, file = PLATFORM_DEFINITION_FILE, sep='\\t', row.names = FALSE)"
   ]
  },
  {
   "cell_type": "markdown",
   "metadata": {},
   "source": [
    "# Load custom platform file, and map segements to appropriate values"
   ]
  },
  {
   "cell_type": "markdown",
   "metadata": {},
   "source": [
    "First load a tranSMART platform file, can be created from any source (eg. biomart R script). Convert the X and Y chromosomes into int for faster comparison"
   ]
  },
  {
   "cell_type": "code",
   "execution_count": null,
   "metadata": {
    "collapsed": false
   },
   "outputs": [],
   "source": [
    "import pandas as pd\n",
    "import numpy as np\n",
    "from scipy import stats\n",
    "\n",
    "platform_raw = pd.read_table(PLATFORM_DEFINITION_FILE)\n",
    "platform = platform_raw.replace(to_replace='X', value=23)\n",
    "platform.replace(to_replace='Y', value=24, inplace=True)\n",
    "platform[['CHR', 'START_BP', 'END_BP']] = platform[['CHR', 'START_BP', 'END_BP']].astype(int)"
   ]
  },
  {
   "cell_type": "markdown",
   "metadata": {},
   "source": [
    "Load the platform definition you want to map from."
   ]
  },
  {
   "cell_type": "code",
   "execution_count": null,
   "metadata": {
    "collapsed": false
   },
   "outputs": [],
   "source": [
    "platform_input = pd.read_table(TM_PLATFORM_INPUT_FILE)\n",
    "regions = platform_input.ix[:,[2,3,4]]\n",
    "\n",
    "regions.ix[:,0].replace(to_replace='X', value=23, inplace=True)\n",
    "regions.ix[:,0].replace(to_replace='Y', value=24, inplace=True)\n",
    "regions.columns = 'chromosome', 'start', 'end'\n",
    "regions = regions.astype(int)"
   ]
  },
  {
   "cell_type": "markdown",
   "metadata": {},
   "source": [
    "This function takes the tranSMART platform file and a segment table as input. The segment table has 4 columns: chr, start, end, value.\n"
   ]
  },
  {
   "cell_type": "code",
   "execution_count": null,
   "metadata": {
    "collapsed": false
   },
   "outputs": [],
   "source": [
    "def find_overlapping_segments(chrom, start, end):\n",
    "    selected_segments_index = regions.loc[((regions.chromosome == chrom) &\n",
    "                            (regions.end > start) &\n",
    "                            (regions.start < end))].index\n",
    "    \n",
    "    if len(selected_segments_index) > 0:\n",
    "        return selected_segments_index\n",
    "    else:\n",
    "        return None\n",
    "        \n",
    "def map_multiple_segments_to_gene(platform):    \n",
    "    overlap = platform.apply(lambda x: find_overlapping_segments(x.iloc[2], x.iloc[3], x.iloc[4]), \n",
    "                            axis=1)\n",
    "    return overlap\n",
    "\n",
    "overlap = map_multiple_segments_to_gene(platform)"
   ]
  },
  {
   "cell_type": "markdown",
   "metadata": {},
   "source": [
    "Now the overlapping genomic regions have been calculated. We can map the data from one to the other. First, though, the file with the data that needs to be mapped has to be loaded."
   ]
  },
  {
   "cell_type": "code",
   "execution_count": null,
   "metadata": {
    "collapsed": false
   },
   "outputs": [],
   "source": [
    "segments = pd.read_table(TM_SAMPLES_FILE)\n",
    "segments_region_column = segments.columns[0]"
   ]
  },
  {
   "cell_type": "markdown",
   "metadata": {
    "collapsed": false
   },
   "source": [
    "Columns that contain the flags will be identified."
   ]
  },
  {
   "cell_type": "code",
   "execution_count": null,
   "metadata": {
    "collapsed": false
   },
   "outputs": [],
   "source": [
    "col_names_contain_flag = segments.columns.str.contains(CALL_INDICATOR)\n",
    "column_that_contains_flag = segments.columns[col_names_contain_flag]"
   ]
  },
  {
   "cell_type": "code",
   "execution_count": null,
   "metadata": {
    "collapsed": false
   },
   "outputs": [],
   "source": [
    "def map_index_to_region_ids(gene):\n",
    "    mappings = list()\n",
    "    for id in gene:\n",
    "        mappings += [platform_input.loc[id]['REGION_NAME']]\n",
    "    return mappings\n",
    "\n",
    "def return_mean(segments, mapping):\n",
    "    mean_values = segments[segments[segments_region_column].isin(mapping)].mean()\n",
    "    if len(mapping) >= 2 and MODE_FLAG:\n",
    "        mean_values[column_that_contains_flag] = (segments[segments[segments_region_column] \\\n",
    "                                    .isin(mapping)][column_that_contains_flag]).apply(lambda x: int(stats.mode(x)[0]))\n",
    "    return mean_values\n",
    "\n",
    "only_scores = overlap[~overlap.isnull()]\n",
    "region_id_mapping = only_scores.apply(map_index_to_region_ids)\n",
    "\n",
    "remapped_regions = region_id_mapping.apply(lambda x: return_mean(segments, x))\n",
    "\n",
    "new_df = pd.DataFrame(columns=segments.columns,\n",
    "                      data=remapped_regions)\n",
    "\n",
    "## Ugly way to add back the lost region_id's\n",
    "new_df[segments_region_column] = platform.REGION_NAME\n"
   ]
  },
  {
   "cell_type": "markdown",
   "metadata": {},
   "source": [
    "When not taking the mode of flag then convert the flag back to int."
   ]
  },
  {
   "cell_type": "code",
   "execution_count": null,
   "metadata": {
    "collapsed": false
   },
   "outputs": [],
   "source": [
    "if not MODE_FLAG:\n",
    "    new_df[column_that_contains_flag] = np.rint(new_df[column_that_contains_flag].astype(float)).astype(int)"
   ]
  },
  {
   "cell_type": "markdown",
   "metadata": {},
   "source": [
    "Write table to disk with \"gene_mapped.txt\" added"
   ]
  },
  {
   "cell_type": "code",
   "execution_count": null,
   "metadata": {
    "collapsed": false
   },
   "outputs": [],
   "source": [
    "remapped_name = TM_SAMPLES_FILE + '_gene_mapped.txt'\n",
    "new_df.to_csv(remapped_name, sep='\\t', float_format='%.3f', index=False)"
   ]
  }
 ],
 "metadata": {
  "kernelspec": {
   "display_name": "Python 3",
   "language": "python",
   "name": "python3"
  },
  "language_info": {
   "codemirror_mode": {
    "name": "ipython",
    "version": 3
   },
   "file_extension": ".py",
   "mimetype": "text/x-python",
   "name": "python",
   "nbconvert_exporter": "python",
   "pygments_lexer": "ipython3",
   "version": "3.5.1"
  }
 },
 "nbformat": 4,
 "nbformat_minor": 0
}
