{
 "cells": [
  {
   "cell_type": "markdown",
   "metadata": {},
   "source": [
    "# Using R biomart client to download all known genes (for grch37)"
   ]
  },
  {
   "cell_type": "code",
   "execution_count": 1,
   "metadata": {
    "collapsed": false
   },
   "outputs": [],
   "source": [
    "%load_ext rpy2.ipython"
   ]
  },
  {
   "cell_type": "code",
   "execution_count": 2,
   "metadata": {
    "collapsed": false
   },
   "outputs": [],
   "source": [
    "%%R\n",
    "\n",
    "# ### Name for the platform (reflected in filename and in platform definition)\n",
    "PLATFORM_NAME = 'qDNAseq_hg19'\n",
    "PLATFORM_DEFINITION_FILE = paste(c(PLATFORM_NAME, '.txt'), collapse = '')\n",
    "\n",
    "# ### Using ensembl on GRCh37 -----------------------------------------------\n",
    "library(biomaRt)\n",
    "mart <- useMart(biomart = \"ENSEMBL_MART_ENSEMBL\",\n",
    "                dataset = \"hsapiens_gene_ensembl\",\n",
    "                host=\"grch37.ensembl.org\")\n",
    "\n",
    "# Only use standard human chromosomes\n",
    "normal.chroms <- c(1:22, \"X\", \"Y\", \"M\")\n",
    "\n",
    "# # Get the coordinates through biomart and merge with platform -------------\n",
    "entrez_list <- getBM(attributes = c(\"chromosome_name\", \"start_position\", \"end_position\", \n",
    "                                    \"band\", 'hgnc_symbol','entrezgene'),\n",
    "                        filter = 'chromosome_name',\n",
    "                        values = normal.chroms,\n",
    "                        mart = mart)\n",
    "\n",
    "# Only keep entries with both HGNC symbol and Entrez gene ID\n",
    "entrez_list <- entrez_list[which(!is.na(entrez_list$entrezgene) & entrez_list$hgnc_symbol != ''),]\n",
    "\n",
    "# Deduplicate list from hgnc symbols\n",
    "entrez_list <- entrez_list[order(entrez_list$entrezgene),]\n",
    "entrez_list <- entrez_list[!duplicated(entrez_list$hgnc_symbol),]\n",
    "\n",
    "# Sorting based on chromomome and start position\n",
    "entrez_list <- entrez_list[order(entrez_list$chromosome_name, entrez_list$start_position),]\n",
    "\n",
    "### Create platform file\n",
    "biomart_entrez_platform <- data.frame(  \"GPL_ID\" = PLATFORM_NAME,\n",
    "                                        \"REGION_NAME\" = entrez_list$hgnc_symbol,\n",
    "                                        \"CHR\" = entrez_list$chromosome_name,\n",
    "                                        \"START_BP\" = as.integer(entrez_list$start_position),\n",
    "                                        \"END_BP\" = as.integer(entrez_list$end_position),\n",
    "                                        \"NUM_PROBES\" = '',\n",
    "                                        \"CYTOBAND\" = entrez_list$band,\n",
    "                                        \"GENE_SYMBOL\" = entrez_list$hgnc_symbol,\n",
    "                                        \"GENE_ID\" = entrez_list$entrezgene,\n",
    "                                        \"ORGANISM\" = 'Homo sapiens'\n",
    "                                )\n",
    "\n",
    "\n",
    "write.table(biomart_entrez_platform, file = PLATFORM_DEFINITION_FILE, sep='\\t', row.names = FALSE)"
   ]
  },
  {
   "cell_type": "markdown",
   "metadata": {},
   "source": [
    "# Load custom platform file, and map segements to appropriate values"
   ]
  },
  {
   "cell_type": "markdown",
   "metadata": {},
   "source": [
    "First load a tranSMART platform file, can be created from any source (eg. biomart R script). Convert the X and Y chromosomes into int for faster comparison"
   ]
  },
  {
   "cell_type": "code",
   "execution_count": 3,
   "metadata": {
    "collapsed": false
   },
   "outputs": [],
   "source": [
    "import pandas as pd\n",
    "import numpy as np\n",
    "\n",
    "PLATFORM_FILE_R = %R PLATFORM_DEFINITION_FILE\n",
    "PLATFORM_FILE = PLATFORM_FILE_R[0]\n",
    "\n",
    "platform_raw = pd.read_table(PLATFORM_FILE)\n",
    "platform = platform_raw.replace(to_replace='X', value=23)\n",
    "platform.replace(to_replace='Y', value=24, inplace=True)\n",
    "platform[['CHR', 'START_BP', 'END_BP']] = platform[['CHR', 'START_BP', 'END_BP']].astype(int)"
   ]
  },
  {
   "cell_type": "markdown",
   "metadata": {},
   "source": [
    "Load the \"transmart input file\""
   ]
  },
  {
   "cell_type": "code",
   "execution_count": 5,
   "metadata": {
    "collapsed": false
   },
   "outputs": [],
   "source": [
    "TM_REGION_INPUT_FILE = './CLUC_transmartInput_HCT116-2.txt'\n",
    "\n",
    "segments = pd.read_table(TM_REGION_INPUT_FILE)\n",
    "\n",
    "regions = pd.DataFrame(segments['region_id'].str.split('[:-]').tolist())\n",
    "regions.columns = ['chromosome', 'start', 'end']\n",
    "regions[['chromosome', 'start', 'end']] = regions[['chromosome', 'start', 'end']].astype(int)"
   ]
  },
  {
   "cell_type": "markdown",
   "metadata": {},
   "source": [
    "This function takes the tranSMART platform file and a segment table as input. The segment table has 4 columns: chr, start, end, value.\n"
   ]
  },
  {
   "cell_type": "code",
   "execution_count": 6,
   "metadata": {
    "collapsed": false
   },
   "outputs": [],
   "source": [
    "def find_overlapping_segments(chrom, start, end):\n",
    "    selected_segments_index = regions.loc[((regions.chromosome == chrom) &\n",
    "                            (regions.end > start) &\n",
    "                            (regions.start < end))].index\n",
    "    \n",
    "    if selected_segments_index != []:\n",
    "        return selected_segments_index\n",
    "    else:\n",
    "        return None\n",
    "        \n",
    "def map_multiple_segments_to_gene(platform):\n",
    "    chrom = 'CHR'\n",
    "    start = 'START_BP'\n",
    "    end   = 'END_BP'\n",
    "    \n",
    "    overlap = platform.apply(lambda x: find_overlapping_segments(x[chrom], x[start], x[end]), \n",
    "                            axis=1)\n",
    "    return overlap\n",
    "\n",
    "overlap = map_multiple_segments_to_gene(platform)"
   ]
  },
  {
   "cell_type": "markdown",
   "metadata": {},
   "source": [
    "Now the overlapping genomic regions have been calculated. We can map the data from one to the other."
   ]
  },
  {
   "cell_type": "code",
   "execution_count": 7,
   "metadata": {
    "collapsed": false
   },
   "outputs": [],
   "source": [
    "remapped_regions = pd.DataFrame(columns=segments.columns)\n",
    "remapped_regions['region_id'] = platform.REGION_NAME\n",
    "\n",
    "genes_with_scores = ~overlap.isnull()\n",
    "only_scores = overlap[genes_with_scores]\n",
    "\n",
    "for index, value in only_scores.iteritems():\n",
    "    mean_values = segments.iloc[value].mean()\n",
    "    remapped_regions.iloc[index] = mean_values\n",
    "\n",
    "## Ugly way to add back the lost region_id's\n",
    "remapped_regions['region_id'] = platform.REGION_NAME\n",
    "\n"
   ]
  },
  {
   "cell_type": "markdown",
   "metadata": {
    "collapsed": true
   },
   "source": [
    "Remove any genes that have no regions (remove rows that have NaN's)"
   ]
  },
  {
   "cell_type": "code",
   "execution_count": 8,
   "metadata": {
    "collapsed": false
   },
   "outputs": [],
   "source": [
    "remapped_regions = remapped_regions[~remapped_regions.isnull().any(axis=1)]"
   ]
  },
  {
   "cell_type": "markdown",
   "metadata": {
    "collapsed": false
   },
   "source": [
    "Round the flag back to int"
   ]
  },
  {
   "cell_type": "code",
   "execution_count": 20,
   "metadata": {
    "collapsed": false
   },
   "outputs": [],
   "source": [
    "col_names_contain_flag = remapped_regions.columns.str.contains('.flag')\n",
    "column_that_contains_flag = remapped_regions.columns[col_names_contain_flag]\n",
    "\n",
    "remapped_regions[column_that_contains_flag] = np.rint(remapped_regions[column_that_contains_flag].astype(float)).astype(int)"
   ]
  },
  {
   "cell_type": "markdown",
   "metadata": {},
   "source": [
    "Write table to disk with \"gene_mapped.txt\" added"
   ]
  },
  {
   "cell_type": "code",
   "execution_count": 47,
   "metadata": {
    "collapsed": false
   },
   "outputs": [],
   "source": [
    "remapped_name = TM_REGION_INPUT_FILE + '_gene_mapped.txt'\n",
    "remapped_regions.to_csv(remapped_name, sep='\\t', decimal=3, index=False)"
   ]
  },
  {
   "cell_type": "code",
   "execution_count": null,
   "metadata": {
    "collapsed": false
   },
   "outputs": [],
   "source": []
  },
  {
   "cell_type": "code",
   "execution_count": null,
   "metadata": {
    "collapsed": false
   },
   "outputs": [],
   "source": []
  },
  {
   "cell_type": "code",
   "execution_count": null,
   "metadata": {
    "collapsed": false
   },
   "outputs": [],
   "source": []
  }
 ],
 "metadata": {
  "kernelspec": {
   "display_name": "Python 2",
   "language": "python",
   "name": "python2"
  },
  "language_info": {
   "codemirror_mode": {
    "name": "ipython",
    "version": 2
   },
   "file_extension": ".py",
   "mimetype": "text/x-python",
   "name": "python",
   "nbconvert_exporter": "python",
   "pygments_lexer": "ipython2",
   "version": "2.7.10"
  }
 },
 "nbformat": 4,
 "nbformat_minor": 0
}
