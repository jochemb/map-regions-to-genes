{
 "cells": [
  {
   "cell_type": "markdown",
   "metadata": {},
   "source": [
    "# Using R biomart client to download all known genes (for grch37)"
   ]
  },
  {
   "cell_type": "code",
   "execution_count": 1,
   "metadata": {
    "collapsed": false
   },
   "outputs": [],
   "source": [
    "%load_ext rpy2.ipython"
   ]
  },
  {
   "cell_type": "markdown",
   "metadata": {},
   "source": [
    "Set the name for the to-be-created platform and send the variables to R."
   ]
  },
  {
   "cell_type": "code",
   "execution_count": 2,
   "metadata": {
    "collapsed": false
   },
   "outputs": [],
   "source": [
    "NEW_PLATFORM_NAME = 'KG_CRC_IIandIII_CNA'\n",
    "PLATFORM_DEFINITION_FILE = NEW_PLATFORM_NAME + '.txt'\n",
    "%R -i NEW_PLATFORM_NAME\n",
    "%R -i PLATFORM_DEFINITION_FILE"
   ]
  },
  {
   "cell_type": "markdown",
   "metadata": {},
   "source": [
    "What is the reference genome for the data to be remapped. This changes the host for biomart (the script currently works for hg18 and hg19). "
   ]
  },
  {
   "cell_type": "code",
   "execution_count": 3,
   "metadata": {
    "collapsed": false
   },
   "outputs": [],
   "source": [
    "reference_build = 'hg18'\n",
    "\n",
    "host_mapping = {'hg18' : 'may2009.archive.ensembl.org',\n",
    "                'hg19' : 'grch37.ensembl.org',\n",
    "                'hg38' : 'www.ensembl.org'}\n",
    "\n",
    "mart_host = host_mapping[reference_build]\n",
    "%R -i mart_host"
   ]
  },
  {
   "cell_type": "markdown",
   "metadata": {},
   "source": [
    "This checks if biomart is installed and tries to install it. This likely has to be run from inside R terminal though."
   ]
  },
  {
   "cell_type": "code",
   "execution_count": 4,
   "metadata": {
    "collapsed": false
   },
   "outputs": [],
   "source": [
    "%%R\n",
    "if (!is.element('biomaRt', installed.packages()[,1])) {\n",
    "    print('biomaRt not found. Trying to download.')\n",
    "    source(\"https://bioconductor.org/biocLite.R\")\n",
    "    biocLite(\"biomaRt\")\n",
    "}"
   ]
  },
  {
   "cell_type": "code",
   "execution_count": 5,
   "metadata": {
    "collapsed": false
   },
   "outputs": [],
   "source": [
    "%%R\n",
    "\n",
    "# ### Using ensembl on GRCh37 -----------------------------------------------\n",
    "library(biomaRt)\n",
    "mart <- useMart(biomart = \"ENSEMBL_MART_ENSEMBL\",\n",
    "                dataset = \"hsapiens_gene_ensembl\",\n",
    "                host=mart_host)\n",
    "\n",
    "\n",
    "# Only use standard human chromosomes\n",
    "normal.chroms <- c(1:22, \"X\", \"Y\", \"M\")\n",
    "\n",
    "# # Get the coordinates through biomart and merge with platform -------------\n",
    "entrez_list <- getBM(attributes = c(\"chromosome_name\", \"start_position\", \"end_position\", \n",
    "                                    \"band\", 'hgnc_symbol','entrezgene'),\n",
    "                        filter = 'chromosome_name',\n",
    "                        values = normal.chroms,\n",
    "                        mart = mart)\n",
    "\n",
    "# Only keep entries with both HGNC symbol and Entrez gene ID\n",
    "entrez_list <- entrez_list[which(!is.na(entrez_list$entrezgene) & entrez_list$hgnc_symbol != ''),]\n",
    "\n",
    "# Deduplicate list from hgnc symbols\n",
    "entrez_list <- entrez_list[order(entrez_list$entrezgene),]\n",
    "entrez_list <- entrez_list[!duplicated(entrez_list$hgnc_symbol),]\n",
    "\n",
    "# Sorting based on chromomome and start position\n",
    "entrez_list <- entrez_list[order(entrez_list$chromosome_name, entrez_list$start_position),]\n",
    "\n",
    "### Create platform file\n",
    "biomart_entrez_platform <- data.frame(  \"GPL_ID\" = NEW_PLATFORM_NAME,\n",
    "                                        \"REGION_NAME\" = entrez_list$hgnc_symbol,\n",
    "                                        \"CHR\" = entrez_list$chromosome_name,\n",
    "                                        \"START_BP\" = as.integer(entrez_list$start_position),\n",
    "                                        \"END_BP\" = as.integer(entrez_list$end_position),\n",
    "                                        \"NUM_PROBES\" = '',\n",
    "                                        \"CYTOBAND\" = entrez_list$band,\n",
    "                                        \"GENE_SYMBOL\" = entrez_list$hgnc_symbol,\n",
    "                                        \"GENE_ID\" = entrez_list$entrezgene,\n",
    "                                        \"ORGANISM\" = 'Homo sapiens'\n",
    "                                )\n",
    "\n",
    "write.table(biomart_entrez_platform, file = PLATFORM_DEFINITION_FILE, sep='\\t', row.names = FALSE)"
   ]
  },
  {
   "cell_type": "markdown",
   "metadata": {},
   "source": [
    "# Load custom platform file, and map segements to appropriate values"
   ]
  },
  {
   "cell_type": "markdown",
   "metadata": {},
   "source": [
    "First load a tranSMART platform file, can be created from any source (eg. biomart R script). Convert the X and Y chromosomes into int for faster comparison"
   ]
  },
  {
   "cell_type": "code",
   "execution_count": 6,
   "metadata": {
    "collapsed": false
   },
   "outputs": [],
   "source": [
    "import pandas as pd\n",
    "import numpy as np\n",
    "\n",
    "platform_raw = pd.read_table(PLATFORM_DEFINITION_FILE)\n",
    "platform = platform_raw.replace(to_replace='X', value=23)\n",
    "platform.replace(to_replace='Y', value=24, inplace=True)\n",
    "platform[['CHR', 'START_BP', 'END_BP']] = platform[['CHR', 'START_BP', 'END_BP']].astype(int)"
   ]
  },
  {
   "cell_type": "markdown",
   "metadata": {},
   "source": [
    "Select the platform file you want to map from."
   ]
  },
  {
   "cell_type": "code",
   "execution_count": 7,
   "metadata": {
    "collapsed": true
   },
   "outputs": [],
   "source": [
    "TM_PLATFORM_INPUT_FILE = '/Users/jb/Downloads/KG_CRC_IIandIII_CNAregion_AnnFile.txt'"
   ]
  },
  {
   "cell_type": "markdown",
   "metadata": {},
   "source": [
    "Load the platform definition you want to map from."
   ]
  },
  {
   "cell_type": "code",
   "execution_count": 8,
   "metadata": {
    "collapsed": false
   },
   "outputs": [],
   "source": [
    "platform_input = pd.read_table(TM_PLATFORM_INPUT_FILE)\n",
    "regions = platform_input.ix[:,[2,3,4]]\n",
    "\n",
    "regions.ix[:,0].replace(to_replace='X', value=23, inplace=True)\n",
    "regions.ix[:,0].replace(to_replace='Y', value=24, inplace=True)\n",
    "regions.columns = 'chromosome', 'start', 'end'\n",
    "regions = regions.astype(int)"
   ]
  },
  {
   "cell_type": "markdown",
   "metadata": {},
   "source": [
    "This function takes the tranSMART platform file and a segment table as input. The segment table has 4 columns: chr, start, end, value.\n"
   ]
  },
  {
   "cell_type": "code",
   "execution_count": 9,
   "metadata": {
    "collapsed": false
   },
   "outputs": [],
   "source": [
    "def find_overlapping_segments(chrom, start, end):\n",
    "    selected_segments_index = regions.loc[((regions.chromosome == chrom) &\n",
    "                            (regions.end > start) &\n",
    "                            (regions.start < end))].index\n",
    "    \n",
    "    if len(selected_segments_index) > 0:\n",
    "        return selected_segments_index\n",
    "    else:\n",
    "        return None\n",
    "        \n",
    "def map_multiple_segments_to_gene(platform):    \n",
    "    overlap = platform.apply(lambda x: find_overlapping_segments(x.iloc[2], x.iloc[3], x.iloc[4]), \n",
    "                            axis=1)\n",
    "    return overlap\n",
    "\n",
    "overlap = map_multiple_segments_to_gene(platform)"
   ]
  },
  {
   "cell_type": "markdown",
   "metadata": {},
   "source": [
    "Now the overlapping genomic regions have been calculated. We can map the data from one to the other. First, though, the file with the data that needs to be mapped has to be loaded."
   ]
  },
  {
   "cell_type": "code",
   "execution_count": 10,
   "metadata": {
    "collapsed": false
   },
   "outputs": [],
   "source": [
    "TM_SAMPLES_FILE = '/Users/jb/Downloads/KG_CRC_IIandIII_CNAregion_data.txt'\n",
    "segments = pd.read_table(TM_SAMPLES_FILE)\n",
    "segments_region_column = segments.columns[0]"
   ]
  },
  {
   "cell_type": "code",
   "execution_count": 11,
   "metadata": {
    "collapsed": false
   },
   "outputs": [],
   "source": [
    "def map_index_to_region_ids(gene):\n",
    "    mappings = list()\n",
    "    for id in gene:\n",
    "        mappings += [platform_input.loc[id]['REGION_NAME']]\n",
    "    return mappings\n",
    "\n",
    "def return_mean(segments, mapping):\n",
    "    mean_values = segments[segments[segments_region_column].isin(mapping)].mean()\n",
    "    return mean_values\n",
    "\n",
    "only_scores = overlap[~overlap.isnull()]\n",
    "region_id_mapping = only_scores.apply(map_index_to_region_ids)\n",
    "\n",
    "remapped_regions = region_id_mapping.apply(lambda x: return_mean(segments, x))\n",
    "\n",
    "new_df = pd.DataFrame(columns=segments.columns,\n",
    "                      data=remapped_regions)\n",
    "\n",
    "## Ugly way to add back the lost region_id's\n",
    "new_df[segments_region_column] = platform.REGION_NAME\n"
   ]
  },
  {
   "cell_type": "markdown",
   "metadata": {
    "collapsed": false
   },
   "source": [
    "Round the flag back to int. First give the indicator for Call columns"
   ]
  },
  {
   "cell_type": "code",
   "execution_count": 12,
   "metadata": {
    "collapsed": true
   },
   "outputs": [],
   "source": [
    "call_indicator = '.CALL'"
   ]
  },
  {
   "cell_type": "code",
   "execution_count": 13,
   "metadata": {
    "collapsed": false
   },
   "outputs": [],
   "source": [
    "col_names_contain_flag = new_df.columns.str.contains(call_indicator)\n",
    "column_that_contains_flag = new_df.columns[col_names_contain_flag]\n",
    "\n",
    "new_df[column_that_contains_flag] = np.rint(new_df[column_that_contains_flag].astype(float)).astype(int)"
   ]
  },
  {
   "cell_type": "markdown",
   "metadata": {},
   "source": [
    "Write table to disk with \"gene_mapped.txt\" added"
   ]
  },
  {
   "cell_type": "code",
   "execution_count": 14,
   "metadata": {
    "collapsed": false
   },
   "outputs": [],
   "source": [
    "remapped_name = TM_SAMPLES_FILE + '_gene_mapped.txt'\n",
    "new_df.to_csv(remapped_name, sep='\\t', float_format='%.3f', index=False)"
   ]
  },
  {
   "cell_type": "code",
   "execution_count": null,
   "metadata": {
    "collapsed": false
   },
   "outputs": [],
   "source": []
  }
 ],
 "metadata": {
  "kernelspec": {
   "display_name": "Python 3",
   "language": "python",
   "name": "python3"
  },
  "language_info": {
   "codemirror_mode": {
    "name": "ipython",
    "version": 3
   },
   "file_extension": ".py",
   "mimetype": "text/x-python",
   "name": "python",
   "nbconvert_exporter": "python",
   "pygments_lexer": "ipython3",
   "version": "3.5.1"
  }
 },
 "nbformat": 4,
 "nbformat_minor": 0
}
